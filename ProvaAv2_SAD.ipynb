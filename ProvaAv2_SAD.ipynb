{
 "cells": [
  {
   "cell_type": "markdown",
   "metadata": {},
   "source": [
    "DISCIPLINA: Sistemas de Apoio à Decisão \tPROFESSOR(A): Alex Salgado \n",
    " \n",
    "PERÍODO: 8o. \t\t\t\tTURNO: noite \t\tAVALIAÇÃO: \n",
    " \n",
    "ALUNO(A): Diego Loza Reis da Silva\n",
    " \n",
    "GRAU: \t\t\t\t\t\t\tVISTO DO PROFESSOR:\n",
    " \n",
    "Preencha sua resposta no próprio arquivo do Jupyter e depois me envie no link abaixo:\n",
    "resposta: https://goo.gl/forms/aOml4FAMaTmB4u482\n"
   ]
  },
  {
   "cell_type": "markdown",
   "metadata": {},
   "source": [
    "## Questão 1 - valor (0,5)\n",
    "1.1 - Importar os modulos python para machine learn e carregar o arquivo pacotes.xlsx usando o método read_excel do pandas"
   ]
  },
  {
   "cell_type": "code",
   "execution_count": 8,
   "metadata": {
    "scrolled": true
   },
   "outputs": [],
   "source": [
    "%matplotlib notebook\n",
    "import numpy as np\n",
    "import matplotlib.pyplot as plt\n",
    "import pandas as pd\n",
    "from sklearn.model_selection import train_test_split\n",
    "pacotes = pd.read_excel('pacotes.xlsx')"
   ]
  },
  {
   "cell_type": "markdown",
   "metadata": {},
   "source": [
    "1.2 - Exibir os primeiros registros desta tabela"
   ]
  },
  {
   "cell_type": "code",
   "execution_count": 9,
   "metadata": {},
   "outputs": [
    {
     "data": {
      "text/html": [
       "<div>\n",
       "<table border=\"1\" class=\"dataframe\">\n",
       "  <thead>\n",
       "    <tr style=\"text-align: right;\">\n",
       "      <th></th>\n",
       "      <th>pacote</th>\n",
       "      <th>tipo_pacote</th>\n",
       "      <th>peso(gramas)</th>\n",
       "      <th>largura</th>\n",
       "      <th>altura</th>\n",
       "    </tr>\n",
       "  </thead>\n",
       "  <tbody>\n",
       "    <tr>\n",
       "      <th>0</th>\n",
       "      <td>1</td>\n",
       "      <td>carga fragil</td>\n",
       "      <td>960.0</td>\n",
       "      <td>18.300000</td>\n",
       "      <td>14.6</td>\n",
       "    </tr>\n",
       "    <tr>\n",
       "      <th>1</th>\n",
       "      <td>1</td>\n",
       "      <td>carga fragil</td>\n",
       "      <td>900.0</td>\n",
       "      <td>17.142857</td>\n",
       "      <td>13.6</td>\n",
       "    </tr>\n",
       "    <tr>\n",
       "      <th>2</th>\n",
       "      <td>1</td>\n",
       "      <td>carga fragil</td>\n",
       "      <td>880.0</td>\n",
       "      <td>15.300000</td>\n",
       "      <td>14.4</td>\n",
       "    </tr>\n",
       "    <tr>\n",
       "      <th>3</th>\n",
       "      <td>2</td>\n",
       "      <td>carga especial</td>\n",
       "      <td>430.0</td>\n",
       "      <td>71.400000</td>\n",
       "      <td>9.4</td>\n",
       "    </tr>\n",
       "    <tr>\n",
       "      <th>4</th>\n",
       "      <td>2</td>\n",
       "      <td>carga especial</td>\n",
       "      <td>420.0</td>\n",
       "      <td>12.857143</td>\n",
       "      <td>9.2</td>\n",
       "    </tr>\n",
       "  </tbody>\n",
       "</table>\n",
       "</div>"
      ],
      "text/plain": [
       "   pacote     tipo_pacote  peso(gramas)    largura  altura\n",
       "0       1    carga fragil         960.0  18.300000    14.6\n",
       "1       1    carga fragil         900.0  17.142857    13.6\n",
       "2       1    carga fragil         880.0  15.300000    14.4\n",
       "3       2  carga especial         430.0  71.400000     9.4\n",
       "4       2  carga especial         420.0  12.857143     9.2"
      ]
     },
     "execution_count": 9,
     "metadata": {},
     "output_type": "execute_result"
    }
   ],
   "source": [
    "pacotes.head()"
   ]
  },
  {
   "cell_type": "markdown",
   "metadata": {},
   "source": [
    "## Questão 2 - valor (0,5)\n",
    "Utilizando as terminologias de Machine Learning(features e observações):  \n",
    "2.1 - Quantas \"features\" têm nessa base de dados?"
   ]
  },
  {
   "cell_type": "code",
   "execution_count": 12,
   "metadata": {},
   "outputs": [
    {
     "data": {
      "text/html": [
       "<div>\n",
       "<table border=\"1\" class=\"dataframe\">\n",
       "  <thead>\n",
       "    <tr style=\"text-align: right;\">\n",
       "      <th></th>\n",
       "      <th>pacote</th>\n",
       "      <th>peso(gramas)</th>\n",
       "      <th>largura</th>\n",
       "      <th>altura</th>\n",
       "    </tr>\n",
       "  </thead>\n",
       "  <tbody>\n",
       "    <tr>\n",
       "      <th>count</th>\n",
       "      <td>62.000000</td>\n",
       "      <td>62.000000</td>\n",
       "      <td>62.000000</td>\n",
       "      <td>62.000000</td>\n",
       "    </tr>\n",
       "    <tr>\n",
       "      <th>mean</th>\n",
       "      <td>2.516129</td>\n",
       "      <td>795.282258</td>\n",
       "      <td>46.878664</td>\n",
       "      <td>15.048387</td>\n",
       "    </tr>\n",
       "    <tr>\n",
       "      <th>std</th>\n",
       "      <td>1.183797</td>\n",
       "      <td>283.205851</td>\n",
       "      <td>29.624086</td>\n",
       "      <td>3.055055</td>\n",
       "    </tr>\n",
       "    <tr>\n",
       "      <th>min</th>\n",
       "      <td>1.000000</td>\n",
       "      <td>380.000000</td>\n",
       "      <td>5.400000</td>\n",
       "      <td>8.000000</td>\n",
       "    </tr>\n",
       "    <tr>\n",
       "      <th>25%</th>\n",
       "      <td>1.000000</td>\n",
       "      <td>652.500000</td>\n",
       "      <td>15.300000</td>\n",
       "      <td>14.250000</td>\n",
       "    </tr>\n",
       "    <tr>\n",
       "      <th>50%</th>\n",
       "      <td>3.000000</td>\n",
       "      <td>785.000000</td>\n",
       "      <td>46.515000</td>\n",
       "      <td>15.100000</td>\n",
       "    </tr>\n",
       "    <tr>\n",
       "      <th>75%</th>\n",
       "      <td>3.750000</td>\n",
       "      <td>877.500000</td>\n",
       "      <td>74.400000</td>\n",
       "      <td>16.350000</td>\n",
       "    </tr>\n",
       "    <tr>\n",
       "      <th>max</th>\n",
       "      <td>4.000000</td>\n",
       "      <td>1810.000000</td>\n",
       "      <td>93.360000</td>\n",
       "      <td>21.000000</td>\n",
       "    </tr>\n",
       "  </tbody>\n",
       "</table>\n",
       "</div>"
      ],
      "text/plain": [
       "          pacote  peso(gramas)    largura     altura\n",
       "count  62.000000     62.000000  62.000000  62.000000\n",
       "mean    2.516129    795.282258  46.878664  15.048387\n",
       "std     1.183797    283.205851  29.624086   3.055055\n",
       "min     1.000000    380.000000   5.400000   8.000000\n",
       "25%     1.000000    652.500000  15.300000  14.250000\n",
       "50%     3.000000    785.000000  46.515000  15.100000\n",
       "75%     3.750000    877.500000  74.400000  16.350000\n",
       "max     4.000000   1810.000000  93.360000  21.000000"
      ]
     },
     "execution_count": 12,
     "metadata": {},
     "output_type": "execute_result"
    }
   ],
   "source": [
    "pacotes.describe() #5 features"
   ]
  },
  {
   "cell_type": "markdown",
   "metadata": {},
   "source": [
    "2.2 - Quantas observações têm nessa base de dados?"
   ]
  },
  {
   "cell_type": "code",
   "execution_count": null,
   "metadata": {
    "collapsed": true
   },
   "outputs": [],
   "source": [
    "#62 observações"
   ]
  },
  {
   "cell_type": "markdown",
   "metadata": {},
   "source": [
    "## Questão 3 - valor (2,0)\n",
    "3.1 - Usando o algoritmo de KNN (com 5 vizinhos, k=5), qual a previsão? Adivinhe qual é o pacote com peso 770g, largura 26.8 cm, altura 15.62 cm, ou seja, com as seguintes features (peso = 779, largura=26.8, altura=15.62).\n"
   ]
  },
  {
   "cell_type": "code",
   "execution_count": 14,
   "metadata": {
    "collapsed": true
   },
   "outputs": [],
   "source": [
    "X = pacotes[['peso(gramas)','largura','altura']]\n",
    "y = pacotes['pacote']"
   ]
  },
  {
   "cell_type": "code",
   "execution_count": 16,
   "metadata": {},
   "outputs": [
    {
     "data": {
      "text/plain": [
       "array([1], dtype=int64)"
      ]
     },
     "execution_count": 16,
     "metadata": {},
     "output_type": "execute_result"
    }
   ],
   "source": [
    "from sklearn.neighbors import KNeighborsClassifier\n",
    "knn = KNeighborsClassifier(n_neighbors=5)\n",
    "knn.fit(X, y)\n",
    "knn.predict([[770, 26.8, 15.62]])\n",
    "#carga frágil"
   ]
  },
  {
   "cell_type": "markdown",
   "metadata": {},
   "source": [
    "## Questão 4 - valor (3,0)\n",
    "Usando o método de avaliação de acurácia (Treinar e testar SEPARADAMENTE-Train/test split), Calcular a acurácia de cada um dos 3 métodos abaixo.  \n",
    "\n",
    "\n",
    "\n",
    "4.1 - Acurácia usando o algoritmo de KNN (com 1 vizinho, k=1)\n"
   ]
  },
  {
   "cell_type": "code",
   "execution_count": 17,
   "metadata": {},
   "outputs": [
    {
     "name": "stdout",
     "output_type": "stream",
     "text": [
      "0.68\n"
     ]
    },
    {
     "name": "stderr",
     "output_type": "stream",
     "text": [
      "C:\\Users\\aluno.unilasalle\\Downloads\\WinPython-64bit-3.5.3.1Qt5\\python-3.5.3.amd64\\lib\\site-packages\\sklearn\\cross_validation.py:44: DeprecationWarning: This module was deprecated in version 0.18 in favor of the model_selection module into which all the refactored classes and functions are moved. Also note that the interface of the new CV iterators are different from that of this module. This module will be removed in 0.20.\n",
      "  \"This module will be removed in 0.20.\", DeprecationWarning)\n"
     ]
    }
   ],
   "source": [
    "from sklearn import metrics\n",
    "from sklearn.cross_validation import train_test_split\n",
    "X_train, X_test, y_train, y_test = train_test_split(X, y, test_size=0.4, random_state=4)\n",
    "knn = KNeighborsClassifier(n_neighbors=1)\n",
    "knn.fit(X_train, y_train)\n",
    "y_pred = knn.predict(X_test)\n",
    "print(metrics.accuracy_score(y_test, y_pred))\n",
    "\n",
    "#mais eficiente"
   ]
  },
  {
   "cell_type": "markdown",
   "metadata": {},
   "source": [
    "4.2 - Acurácia usando o algoritmo de KNN (com 5 vizinho, k=5)"
   ]
  },
  {
   "cell_type": "code",
   "execution_count": 18,
   "metadata": {},
   "outputs": [
    {
     "name": "stdout",
     "output_type": "stream",
     "text": [
      "0.44\n"
     ]
    }
   ],
   "source": [
    "from sklearn.cross_validation import train_test_split\n",
    "X_train, X_test, y_train, y_test = train_test_split(X, y, test_size=0.4, random_state=4)\n",
    "knn = KNeighborsClassifier(n_neighbors=5)\n",
    "knn.fit(X_train, y_train)\n",
    "y_pred = knn.predict(X_test)\n",
    "print(metrics.accuracy_score(y_test, y_pred))"
   ]
  },
  {
   "cell_type": "markdown",
   "metadata": {},
   "source": [
    "4.3 - Acurácia usando o algoritmo de LogisticRegression"
   ]
  },
  {
   "cell_type": "code",
   "execution_count": 19,
   "metadata": {},
   "outputs": [
    {
     "name": "stdout",
     "output_type": "stream",
     "text": [
      "0.645161290323\n"
     ]
    }
   ],
   "source": [
    "from sklearn import metrics\n",
    "from sklearn.linear_model import LogisticRegression\n",
    "\n",
    "logreg = LogisticRegression()\n",
    "\n",
    "logreg.fit(X, y)\n",
    "\n",
    "y_pred = logreg.predict(X)\n",
    "\n",
    "print(metrics.accuracy_score(y, y_pred))"
   ]
  },
  {
   "cell_type": "markdown",
   "metadata": {},
   "source": [
    "4.4 - De acordo com seus resultados anteriores, qual dos 3 métodos é mais eficiente?"
   ]
  },
  {
   "cell_type": "markdown",
   "metadata": {},
   "source": []
  }
 ],
 "metadata": {
  "kernelspec": {
   "display_name": "Python 3",
   "language": "python",
   "name": "python3"
  },
  "language_info": {
   "codemirror_mode": {
    "name": "ipython",
    "version": 3
   },
   "file_extension": ".py",
   "mimetype": "text/x-python",
   "name": "python",
   "nbconvert_exporter": "python",
   "pygments_lexer": "ipython3",
   "version": "3.5.3"
  }
 },
 "nbformat": 4,
 "nbformat_minor": 2
}
